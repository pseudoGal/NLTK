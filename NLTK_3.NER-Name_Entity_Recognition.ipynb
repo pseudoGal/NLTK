{
 "cells": [
  {
   "cell_type": "markdown",
   "metadata": {},
   "source": [
    "### NER-tagging - Name Entity Recognition\n",
    "\n",
    "Diffrent types of entities: Person,Location, Organization,Date,time,money,percent,facility,GPE.\n",
    "\n",
    "How we can extract different entities from the sentences?\n",
    "\n",
    "Ans: we use a function called nltk.pos_tag. Which tagged all entities. Process is called as part of speech tagging. And once we tagged all entities we extract them into NameEnt."
   ]
  },
  {
   "cell_type": "code",
   "execution_count": 2,
   "metadata": {},
   "outputs": [
    {
     "name": "stderr",
     "output_type": "stream",
     "text": [
      "[nltk_data] Downloading package maxent_ne_chunker to\n",
      "[nltk_data]     /home/pratiksha/nltk_data...\n",
      "[nltk_data]   Package maxent_ne_chunker is already up-to-date!\n"
     ]
    },
    {
     "data": {
      "text/plain": [
       "True"
      ]
     },
     "execution_count": 2,
     "metadata": {},
     "output_type": "execute_result"
    }
   ],
   "source": [
    "import nltk\n",
    "nltk.download('maxent_ne_chunker')"
   ]
  },
  {
   "cell_type": "code",
   "execution_count": 3,
   "metadata": {},
   "outputs": [],
   "source": [
    "Sent = \"Trump was a former president of USA.\"\n",
    "Sent2 =\"Georgia-Pacific Corp., WHO Eddy Bonte, President Obama Murray River, Mount Everest June, 2008-06-29 two fifty a m, 1:30 p.m. 175 million Canadian Dollars, GBP 10.40 twenty pct, 18.75 % Washington Monument, Stonehenge GPESouth East Asia, Midlothian\"\n",
    "\n",
    "words = nltk.word_tokenize(Sent2)\n",
    "tagged_words = nltk.pos_tag(words)\n",
    "nameEnt = nltk.ne_chunk(tagged_words)"
   ]
  },
  {
   "cell_type": "code",
   "execution_count": 4,
   "metadata": {},
   "outputs": [
    {
     "name": "stdout",
     "output_type": "stream",
     "text": [
      "(S\n",
      "  Georgia-Pacific/NNP\n",
      "  Corp./NNP\n",
      "  ,/,\n",
      "  (ORGANIZATION WHO/NNP Eddy/NNP Bonte/NNP)\n",
      "  ,/,\n",
      "  President/NNP\n",
      "  (PERSON Obama/NNP Murray/NNP River/NNP)\n",
      "  ,/,\n",
      "  (PERSON Mount/NNP Everest/NNP)\n",
      "  June/NNP\n",
      "  ,/,\n",
      "  2008-06-29/JJ\n",
      "  two/CD\n",
      "  fifty/VBP\n",
      "  a/DT\n",
      "  m/NN\n",
      "  ,/,\n",
      "  1:30/CD\n",
      "  p.m./NN\n",
      "  175/CD\n",
      "  million/CD\n",
      "  (GPE Canadian/JJ Dollars/NNP)\n",
      "  ,/,\n",
      "  (ORGANIZATION GBP/NNP)\n",
      "  10.40/CD\n",
      "  twenty/NN\n",
      "  pct/NN\n",
      "  ,/,\n",
      "  18.75/CD\n",
      "  %/NN\n",
      "  (ORGANIZATION Washington/NNP Monument/NNP)\n",
      "  ,/,\n",
      "  (PERSON Stonehenge/NNP GPESouth/NNP East/NNP Asia/NNP)\n",
      "  ,/,\n",
      "  (GPE Midlothian/JJ))\n"
     ]
    }
   ],
   "source": [
    "print(nameEnt)"
   ]
  },
  {
   "cell_type": "code",
   "execution_count": 6,
   "metadata": {},
   "outputs": [],
   "source": [
    "nameEnt.draw()\n",
    "#this will allow you to draw a tree of Entity taggs"
   ]
  },
  {
   "cell_type": "code",
   "execution_count": null,
   "metadata": {},
   "outputs": [],
   "source": []
  }
 ],
 "metadata": {
  "kernelspec": {
   "display_name": "Python 3",
   "language": "python",
   "name": "python3"
  },
  "language_info": {
   "codemirror_mode": {
    "name": "ipython",
    "version": 3
   },
   "file_extension": ".py",
   "mimetype": "text/x-python",
   "name": "python",
   "nbconvert_exporter": "python",
   "pygments_lexer": "ipython3",
   "version": "3.6.8"
  }
 },
 "nbformat": 4,
 "nbformat_minor": 2
}
