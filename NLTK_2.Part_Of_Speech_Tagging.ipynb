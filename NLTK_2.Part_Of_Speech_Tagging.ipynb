{
 "cells": [
  {
   "cell_type": "markdown",
   "metadata": {},
   "source": [
    "### POS-Tagging - Part Of Speech Tagging"
   ]
  },
  {
   "cell_type": "code",
   "execution_count": 1,
   "metadata": {},
   "outputs": [],
   "source": [
    "import nltk"
   ]
  },
  {
   "cell_type": "code",
   "execution_count": 2,
   "metadata": {},
   "outputs": [],
   "source": [
    "x ='Ajinta leni was built by some Emperor.'\n",
    "y ='Taj Mahal was built by Shah Jahan.'"
   ]
  },
  {
   "cell_type": "code",
   "execution_count": 3,
   "metadata": {},
   "outputs": [],
   "source": [
    "words_x =nltk.word_tokenize(x)\n",
    "words_y= nltk.word_tokenize(y)"
   ]
  },
  {
   "cell_type": "code",
   "execution_count": 4,
   "metadata": {},
   "outputs": [
    {
     "name": "stdout",
     "output_type": "stream",
     "text": [
      "['Ajinta', 'leni', 'was', 'built', 'by', 'some', 'Emperor', '.']\n",
      "['Taj', 'Mahal', 'was', 'built', 'by', 'Shah', 'Jahan', '.']\n"
     ]
    }
   ],
   "source": [
    "print(words_x)\n",
    "print(words_y)"
   ]
  },
  {
   "cell_type": "code",
   "execution_count": 5,
   "metadata": {},
   "outputs": [],
   "source": [
    "tagged_word=nltk.pos_tag(words_x)"
   ]
  },
  {
   "cell_type": "code",
   "execution_count": 6,
   "metadata": {},
   "outputs": [
    {
     "name": "stdout",
     "output_type": "stream",
     "text": [
      "[('Ajinta', 'NNP'), ('leni', 'NN'), ('was', 'VBD'), ('built', 'VBN'), ('by', 'IN'), ('some', 'DT'), ('Emperor', 'NNP'), ('.', '.')]\n"
     ]
    }
   ],
   "source": [
    "print(tagged_word)"
   ]
  },
  {
   "cell_type": "code",
   "execution_count": 7,
   "metadata": {},
   "outputs": [],
   "source": [
    "tagged_word=nltk.pos_tag(words_y)"
   ]
  },
  {
   "cell_type": "code",
   "execution_count": 8,
   "metadata": {},
   "outputs": [
    {
     "name": "stdout",
     "output_type": "stream",
     "text": [
      "[('Taj', 'NNP'), ('Mahal', 'NNP'), ('was', 'VBD'), ('built', 'VBN'), ('by', 'IN'), ('Shah', 'NNP'), ('Jahan', 'NNP'), ('.', '.')]\n"
     ]
    }
   ],
   "source": [
    "print(tagged_word)"
   ]
  },
  {
   "cell_type": "code",
   "execution_count": 9,
   "metadata": {},
   "outputs": [],
   "source": [
    "#Combine the tuples into one\n",
    "\n",
    "word_tags=[]\n",
    "for tw in tagged_word:\n",
    "    word_tags.append(tw[0] + \"_\" + tw[1])"
   ]
  },
  {
   "cell_type": "code",
   "execution_count": 10,
   "metadata": {},
   "outputs": [
    {
     "name": "stdout",
     "output_type": "stream",
     "text": [
      "['Taj_NNP', 'Mahal_NNP', 'was_VBD', 'built_VBN', 'by_IN', 'Shah_NNP', 'Jahan_NNP', '._.']\n"
     ]
    }
   ],
   "source": [
    "print(word_tags)"
   ]
  },
  {
   "cell_type": "code",
   "execution_count": 11,
   "metadata": {},
   "outputs": [],
   "source": [
    "#combine all of them into one sentence/paragraph\n",
    "\n",
    "tagged_sentence = ' '.join(word_tags)"
   ]
  },
  {
   "cell_type": "code",
   "execution_count": 12,
   "metadata": {},
   "outputs": [
    {
     "name": "stdout",
     "output_type": "stream",
     "text": [
      "Taj_NNP Mahal_NNP was_VBD built_VBN by_IN Shah_NNP Jahan_NNP ._.\n"
     ]
    }
   ],
   "source": [
    "print(tagged_sentence)"
   ]
  },
  {
   "cell_type": "code",
   "execution_count": null,
   "metadata": {},
   "outputs": [],
   "source": [
    "y = \"Taj Mahal was built by an Emperor Shaha Jahan.\""
   ]
  },
  {
   "cell_type": "code",
   "execution_count": 13,
   "metadata": {},
   "outputs": [
    {
     "name": "stdout",
     "output_type": "stream",
     "text": [
      "[('Taj', 'NNP'), ('Mahal', 'NNP'), ('was', 'VBD'), ('built', 'VBN'), ('by', 'IN'), ('Shah', 'NNP'), ('Jahan', 'NNP'), ('.', '.')]\n"
     ]
    }
   ],
   "source": [
    "words_y= nltk.word_tokenize(y)\n",
    "\n",
    "tagged_y = nltk.pos_tag(words_y)\n",
    "print(tagged_y)"
   ]
  },
  {
   "cell_type": "code",
   "execution_count": 14,
   "metadata": {},
   "outputs": [],
   "source": [
    "words_tagsy=[]\n",
    "\n",
    "for tw in tagged_y:\n",
    "    words_tagsy.append(tw[0]+\"_\"+tw[1])"
   ]
  },
  {
   "cell_type": "markdown",
   "metadata": {},
   "source": [
    "### NER-tagging - Name Entity Recognition\n",
    "\n",
    "\n",
    "Diffrent types of entities: Person,Location, Organization,Date,time,money,percent,facility,GPE.\n",
    "\n",
    "How we can extract different entities from the sentences?\n",
    "\n",
    "Ans: we use a function called nltk.pos_tag. Which tagged all entities. Process is called as part of speech tagging. And once we tagged all entities we extract them into NameEnt."
   ]
  },
  {
   "cell_type": "code",
   "execution_count": 15,
   "metadata": {},
   "outputs": [
    {
     "name": "stderr",
     "output_type": "stream",
     "text": [
      "[nltk_data] Downloading package maxent_ne_chunker to\n",
      "[nltk_data]     /home/pratiksha/nltk_data...\n",
      "[nltk_data]   Package maxent_ne_chunker is already up-to-date!\n"
     ]
    },
    {
     "data": {
      "text/plain": [
       "True"
      ]
     },
     "execution_count": 15,
     "metadata": {},
     "output_type": "execute_result"
    }
   ],
   "source": [
    "#now that all are our splited words are tagged..will pass them into NER\n",
    "#draw a NER Subtree \n",
    "\n",
    "\n",
    "nltk.download('maxent_ne_chunker')"
   ]
  },
  {
   "cell_type": "code",
   "execution_count": 16,
   "metadata": {},
   "outputs": [],
   "source": [
    "namedEnt = nltk.ne_chunk(words_tagsy)"
   ]
  },
  {
   "cell_type": "code",
   "execution_count": 17,
   "metadata": {},
   "outputs": [
    {
     "name": "stdout",
     "output_type": "stream",
     "text": [
      "(S Taj_NNP Mahal_NNP was_VBD built_VBN by_IN Shah_NNP Jahan_NNP ._.)\n"
     ]
    }
   ],
   "source": [
    "print(namedEnt)"
   ]
  },
  {
   "cell_type": "code",
   "execution_count": 18,
   "metadata": {},
   "outputs": [],
   "source": [
    "namedEnt.draw()\n",
    "#this will draw a tree with "
   ]
  },
  {
   "cell_type": "code",
   "execution_count": null,
   "metadata": {},
   "outputs": [],
   "source": []
  }
 ],
 "metadata": {
  "kernelspec": {
   "display_name": "Python 3",
   "language": "python",
   "name": "python3"
  },
  "language_info": {
   "codemirror_mode": {
    "name": "ipython",
    "version": 3
   },
   "file_extension": ".py",
   "mimetype": "text/x-python",
   "name": "python",
   "nbconvert_exporter": "python",
   "pygments_lexer": "ipython3",
   "version": "3.6.8"
  }
 },
 "nbformat": 4,
 "nbformat_minor": 2
}
