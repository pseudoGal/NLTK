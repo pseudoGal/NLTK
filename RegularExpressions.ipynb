{
 "cells": [
  {
   "cell_type": "code",
   "execution_count": null,
   "metadata": {},
   "outputs": [],
   "source": [
    "import re"
   ]
  },
  {
   "cell_type": "code",
   "execution_count": null,
   "metadata": {},
   "outputs": [],
   "source": [
    "x =['Heyy ...&&How you doing?',\n",
    "    'My name is Khaaan$$$$',\n",
    "    'How sweet!!!!Aweeee****',\n",
    "    'Shes shy and smart+++++.2612',\n",
    "    'Alone wolf dies%%% but the pack survives.Winter is coming...',\n",
    "    'He is deep and                 thoughtful######.',\n",
    "    'He is understanding@@@@@@.']"
   ]
  },
  {
   "cell_type": "code",
   "execution_count": null,
   "metadata": {},
   "outputs": [],
   "source": [
    "for i in range(0,len(x)):\n",
    "    print(x[i])"
   ]
  },
  {
   "cell_type": "code",
   "execution_count": null,
   "metadata": {},
   "outputs": [],
   "source": [
    "for i in range(len(x)):\n",
    "    x[i]=re.sub(r'\\W',' ',x[i])\n",
    "    x[i]=re.sub(r'\\d',' ',x[i])\n",
    "    x[i]=re.sub(r'\\s+',' ',x[i])\n",
    "    x[i]=re.sub(r'\\s$',' ',x[i])"
   ]
  },
  {
   "cell_type": "code",
   "execution_count": null,
   "metadata": {},
   "outputs": [],
   "source": [
    "\n",
    "for i in range(0,len(x)):\n",
    "      print(x[i])"
   ]
  },
  {
   "cell_type": "code",
   "execution_count": null,
   "metadata": {},
   "outputs": [],
   "source": []
  }
 ],
 "metadata": {
  "kernelspec": {
   "display_name": "Python 3",
   "language": "python",
   "name": "python3"
  },
  "language_info": {
   "codemirror_mode": {
    "name": "ipython",
    "version": 3
   },
   "file_extension": ".py",
   "mimetype": "text/x-python",
   "name": "python",
   "nbconvert_exporter": "python",
   "pygments_lexer": "ipython3",
   "version": "3.6.8"
  }
 },
 "nbformat": 4,
 "nbformat_minor": 2
}
